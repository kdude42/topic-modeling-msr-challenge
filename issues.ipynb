{
 "cells": [
  {
   "cell_type": "code",
   "execution_count": 15,
   "id": "7c3991e2-327b-4e0c-909a-cb4f0b1976a9",
   "metadata": {
    "tags": []
   },
   "outputs": [],
   "source": [
    "import pymongo\n",
    "import numpy as np\n",
    "import matplotlib.pyplot as plt\n",
    "from scipy import stats"
   ]
  },
  {
   "cell_type": "code",
   "execution_count": 16,
   "id": "6b07738e-a561-4945-9eed-f522573babe7",
   "metadata": {
    "tags": []
   },
   "outputs": [],
   "source": [
    "myclient = pymongo.MongoClient(\"mongodb://localhost:27017/\")\n",
    "mydb=myclient['smartshark_2_1']\n",
    "mycol = mydb[\"project\"]\n",
    "\n",
    "projects=[]\n",
    "list2=[]\n",
    "list3=[]\n",
    "list4=[]\n",
    "detailedissues=[]\n",
    "joinedissues = mydb.project.aggregate([{\"$lookup\":{\n",
    "            \"from\": \"issue_system\",       # other table name\n",
    "            \"localField\": \"_id\",        # key field in collection 2\n",
    "            \"foreignField\": \"project_id\",      # key field in collection 1\n",
    "            \"as\": \"linked_collections\"   # alias for resulting table\n",
    "        }},\n",
    "        {   \"$unwind\":\"$linked_collections\"},\n",
    "                                \n",
    "         {\"$lookup\":{\n",
    "            \"from\": \"issue\",       # other table name\n",
    "            \"localField\": \"linked_collections._id\",        # key field in collection 2\n",
    "            \"foreignField\": \"issue_system_id\",      # key field in collection 1\n",
    "            \"as\": \"linked_collections2\"   # alias for resulting table\n",
    "        }},\n",
    "         {   \"$unwind\":\"$linked_collections2\" }\n",
    "                 , {\"$lookup\":{\n",
    "            \"from\": \"issue_comment\",       # other table name\n",
    "            \"localField\": \"linked_collections2._id\",        # key field in collection 2\n",
    "            \"foreignField\": \"issue_id\",      # key field in collection 1\n",
    "            \"as\": \"linked_collections3\"   # alias for resulting table\n",
    "        }},\n",
    "         {   \"$unwind\":\"$linked_collections3\" },                             \n",
    "        {\"$project\": {\"_id\":1,\"name\":1,\"linked_collections3.comment\":1}}\n",
    "        ])\n",
    "\n",
    "\n",
    "listofissues=[]\n",
    "\n",
    "for docs in joinedissues:\n",
    "      list3.append((docs[\"_id\"],docs[\"name\"],docs[\"linked_collections3\"]))\n",
    "      \n",
    "\n",
    "for project in mycol.find():\n",
    " projects.append(project[\"_id\"])\n"
   ]
  },
  {
   "cell_type": "code",
   "execution_count": 17,
   "id": "de50af82-7843-4d48-8aaa-9c162e797cec",
   "metadata": {},
   "outputs": [],
   "source": [
    "projectissue=[]\n",
    "for projectid in projects:\n",
    "    detailedissue=[]\n",
    "  \n",
    "\n",
    "    hit1=0\n",
    "    for item,name,comment in list3:\n",
    "        \n",
    "      \n",
    "        if projectid==item:\n",
    "            hit1=hit1+1\n",
    "            detailedissue.append(comment)\n",
    "    projectissue.append(detailedissue)\n",
    "\n",
    "    listofissues.append(hit1)\n"
   ]
  },
  {
   "cell_type": "code",
   "execution_count": null,
   "id": "f4035e03-a633-4348-b346-d13fbabc0660",
   "metadata": {
    "tags": []
   },
   "outputs": [],
   "source": [
    "from nltk.corpus import names\n",
    "from nltk.stem import WordNetLemmatizer\n",
    "from sklearn.feature_extraction.text import CountVectorizer\n",
    "import seaborn as sns\n",
    "import string\n",
    "from sklearn.feature_extraction import text\n",
    "\n",
    "from sklearn.cluster import KMeans\n",
    "from sklearn.feature_extraction.text import TfidfVectorizer\n",
    "from nltk.stem import PorterStemmer\n",
    "import pandas as pd\n",
    "import gensim.corpora as corpora\n",
    "from nltk import word_tokenize, pos_tag\n",
    "\n",
    "\n",
    "lemmatizer = WordNetLemmatizer()\n",
    "\n",
    "ignore = ['{','}','.', ',', '\"', \"'\", '?', '!', ':', ';', '(', ')', '[', ']', '{', '}',\"%\",'\\n','\\n2','ok','yes','no','thanks','good','sure','did','Thanks','Sure','welcome']  \n",
    "stop_words = text.ENGLISH_STOP_WORDS.union(ignore)\n",
    "vectorizer = TfidfVectorizer(stop_words = stop_words)\n",
    "cv = CountVectorizer(stop_words=stop_words)\n",
    "\n",
    "cleaned=[]\n",
    "def letters_only(astr):\n",
    " return astr.isalpha()\n",
    "\n",
    "exclude = set(string.punctuation)\n",
    "\n",
    "\n",
    "listofsentenes=[]\n",
    "import re\n",
    "import string\n",
    "\n",
    "\n",
    "\n",
    "\n",
    "def nouns(text):\n",
    "    '''Given a string of text, tokenize the text and pull out only the nouns.'''\n",
    "    is_noun = lambda pos: pos[:2] == 'NN'\n",
    "    tokenized = word_tokenize(text)\n",
    "    all_nouns = [word for (word, pos) in pos_tag(tokenized) if is_noun(pos)] \n",
    "    return ' '.join(all_nouns)\n",
    "\n",
    "round1 = lambda x: clean_text_round1(x)\n",
    "def nouns_adj(text):\n",
    "    '''Given a string of text, tokenize the text and pull out only the nouns and adjectives.'''\n",
    "    is_noun_adj = lambda pos: pos[:2] == 'NN' or pos[:2] == 'JJ' or pos[:2]=='VB'\n",
    "    tokenized = word_tokenize(text)\n",
    "    nouns_adj = [word for (word, pos) in pos_tag(tokenized) if is_noun_adj(pos)] \n",
    "    return ' '.join(nouns_adj)\n",
    "def isoneword(text):\n",
    "    if len(text)>2:\n",
    "        return True\n",
    "    else:\n",
    "        return False\n",
    "\n",
    "\n",
    "\n",
    "\n",
    "for test in projectissue:\n",
    " for post in test:\n",
    "     \n",
    "    \n",
    "     values=post['comment']\n",
    "     \n",
    "     \n",
    "     sentence=nouns_adj(values)\n",
    "     \n",
    "     cleaned.append(' '.join([lemmatizer.lemmatize(word.lower()) for word in sentence.split() if  letters_only(word) and isoneword(word) and word not in stop_words and word not in exclude and word not in ignore]))\n",
    "\n",
    "   \n",
    "\n",
    "transformed = cv.fit_transform(cleaned)\n"
   ]
  },
  {
   "cell_type": "code",
   "execution_count": 8,
   "id": "0711903b-a60c-4132-b575-cdf3ef41b55d",
   "metadata": {
    "tags": []
   },
   "outputs": [
    {
     "name": "stdout",
     "output_type": "stream",
     "text": [
      "0:  think code case need make use change data doe\n",
      "1:  code file use version work class dependency using jar\n",
      "2:  issue fixed fix http patch jira look change commit\n",
      "3:  http pull request commit user github date author close\n",
      "4:  patch test http warning trunk doe committed unit exec\n",
      "5:  string final new public void return import null private\n",
      "6:  val pogo new support game def int number help\n",
      "7:  info error code test run job failure exception failed\n",
      "8:  broker partition topic log message offset consumer request kafka\n",
      "9:  license file see distributed apache software http asf diff\n"
     ]
    }
   ],
   "source": [
    "from sklearn.decomposition import NMF, LatentDirichletAllocation\n",
    "import pickle\n",
    "from sklearn.feature_extraction.text import CountVectorizer\n",
    "list1=pickle.load(open('model.pk4','rb'))\n",
    "cv = CountVectorizer()\n",
    "transformed = cv.fit_transform(list1)\n",
    "lda = LatentDirichletAllocation(n_components=10, random_state=42).fit(transformed)\n",
    "for topic_idx, topic in enumerate(lda.components_):\n",
    " label = '{}: '.format(topic_idx)\n",
    " print(label, \" \".join([cv.get_feature_names_out()[i]\n",
    " for i in topic.argsort()[:-10:-1]]))"
   ]
  },
  {
   "cell_type": "code",
   "execution_count": 11,
   "id": "2f742b4c-aef1-4487-b664-0d1f4a8e5b4a",
   "metadata": {
    "tags": []
   },
   "outputs": [
    {
     "name": "stdout",
     "output_type": "stream",
     "text": [
      "0.31984428297556333\n",
      "0.07111781112644425\n"
     ]
    }
   ],
   "source": [
    "from textblob import TextBlob\n",
    "\n",
    "pol = lambda x: TextBlob(x).sentiment.polarity\n",
    "sub = lambda x: TextBlob(x).sentiment.subjectivity\n",
    "subresults=[]\n",
    "polresults=[]\n",
    "for test in projectissue:\n",
    " for post in test:\n",
    "     values=post['comment']\n",
    "     polarity=pol(values)\n",
    "     subjectivity=sub(values)\n",
    "     subresults.append(subjectivity)\n",
    "     polresults.append(polarity)\n",
    "\n",
    "one=np.asarray(subresults)\n",
    "two=np.asarray(polresults)\n",
    "print(np.mean(one,axis=None))\n",
    "print(np.mean(two,axis=None))"
   ]
  },
  {
   "cell_type": "code",
   "execution_count": 7,
   "id": "cf56effd-5114-4ca9-b297-c1f98867949b",
   "metadata": {
    "tags": []
   },
   "outputs": [
    {
     "name": "stdout",
     "output_type": "stream",
     "text": [
      "Top terms per cluster:\n",
      "Cluster 0:\n",
      " committed\n",
      " patch\n",
      " color\n",
      " trunk\n",
      " master\n",
      " applied\n",
      " green\n",
      " warning\n",
      " test\n",
      " revision\n",
      "Cluster 1:\n",
      " http\n",
      " patch\n",
      " issue\n",
      " fixed\n",
      " test\n",
      " branch\n",
      " code\n",
      " file\n",
      " fix\n",
      " change\n",
      "Cluster 2:\n",
      " pull\n",
      " http\n",
      " request\n",
      " github\n",
      " user\n",
      " closed\n",
      " asfgit\n",
      " commented\n",
      " issue\n",
      " resolved\n"
     ]
    }
   ],
   "source": [
    "from sklearn.feature_extraction.text import TfidfVectorizer\n",
    "from sklearn.cluster import KMeans\n",
    "from sklearn.metrics import adjusted_rand_score\n",
    "\n",
    "vectorizer = TfidfVectorizer(stop_words=stop_words)\n",
    "X = vectorizer.fit_transform(cleaned)\n",
    "\n",
    "true_k = 3\n",
    "model = KMeans(n_clusters=true_k, init='k-means++', max_iter=100, n_init=1)\n",
    "model.fit(X)\n",
    "\n",
    "print(\"Top terms per cluster:\")\n",
    "order_centroids = model.cluster_centers_.argsort()[:, ::-1]\n",
    "terms = vectorizer.get_feature_names_out()\n",
    "for i in range(true_k):\n",
    "    print(\"Cluster %d:\" % i),\n",
    "    for ind in order_centroids[i, :10]:\n",
    "        print(' %s' % terms[ind]),\n",
    "    print\n"
   ]
  },
  {
   "cell_type": "code",
   "execution_count": 9,
   "id": "66b0cfaf-0f5a-4bf7-847a-70badd84564d",
   "metadata": {
    "tags": []
   },
   "outputs": [
    {
     "name": "stderr",
     "output_type": "stream",
     "text": [
      "D:\\dev\\datamining\\venv\\lib\\site-packages\\sklearn\\decomposition\\_nmf.py:289: FutureWarning: The 'init' value, when 'init=None' and n_components is less than n_samples and n_features, will be changed from 'nndsvd' to 'nndsvda' in 1.1 (renaming of 0.26).\n",
      "  warnings.warn(\n"
     ]
    },
    {
     "name": "stdout",
     "output_type": "stream",
     "text": [
      "0:  license distributed file software apache see asf foundation\n",
      "1:  final string topic link new public null specified\n",
      "2:  final new string public byte void private key\n",
      "3:  pogo game support help customer number quick contact\n",
      "4:  info talledlocalcontainer case return final key public relclasses\n",
      "5:  new return public schema version static private throttletimems\n",
      "6:  number quickbooks support phone sage customer pro help\n",
      "7:  commit http author date pull change request doe\n",
      "8:  val new def topic string import message class\n",
      "9:  java socket unix cyclone stream implicit record code\n",
      "10:  info log offset broker completed end load truncating\n",
      "11:  link record string final key code ktable value\n",
      "12:  public string new void return throw import exception\n",
      "13:  import expectedkey final new string time private expectedkeys\n",
      "14:  info exists destination writing test skipped run failure\n",
      "15:  starttime assertequals windowsize tolist incr final void key\n",
      "16:  ivy retrieve dependency resolving default file ant cache\n",
      "17:  delete add edit update rev need lee file\n",
      "18:  indentation info level zeppelin success error interpreter expected\n",
      "19:  error connection server null session warn socket method\n"
     ]
    }
   ],
   "source": [
    "from sklearn.decomposition import NMF\n",
    "nmf = NMF(n_components=20, random_state=42).fit(transformed)\n",
    "for topic_idx, topic in enumerate(nmf.components_):\n",
    " label = '{}: '.format(topic_idx)\n",
    " print(label, \" \".join([cv.get_feature_names_out()[i]\n",
    " for i in topic.argsort()[:-9:-1]]))"
   ]
  },
  {
   "cell_type": "code",
   "execution_count": 12,
   "id": "83546058-8cbe-4619-9a9d-ddae67125247",
   "metadata": {
    "tags": []
   },
   "outputs": [
    {
     "data": {
      "text/plain": [
       "[(0,\n",
       "  '0.332*\"http\" + 0.142*\"user\" + 0.141*\"pull\" + 0.134*\"request\" + 0.063*\"github\" + 0.039*\"closed\" + 0.017*\"asfgit\" + 0.008*\"window\" + 0.007*\"arg\" + 0.007*\"cli\"'),\n",
       " (1,\n",
       "  '0.155*\"issue\" + 0.089*\"release\" + 0.078*\"resolved\" + 0.075*\"fix\" + 0.071*\"fixed\" + 0.068*\"version\" + 0.039*\"master\" + 0.035*\"bug\" + 0.029*\"updated\" + 0.020*\"thank\"'),\n",
       " (2,\n",
       "  '0.025*\"code\" + 0.017*\"case\" + 0.016*\"need\" + 0.015*\"think\" + 0.014*\"work\" + 0.013*\"look\" + 0.012*\"change\" + 0.012*\"make\" + 0.011*\"problem\" + 0.011*\"time\"'),\n",
       " (3,\n",
       "  '0.100*\"info\" + 0.082*\"error\" + 0.055*\"falcon\" + 0.033*\"entity\" + 0.032*\"cluster\" + 0.028*\"server\" + 0.020*\"success\" + 0.017*\"main\" + 0.017*\"log\" + 0.016*\"noformat\"'),\n",
       " (4,\n",
       "  '0.101*\"patch\" + 0.076*\"test\" + 0.041*\"number\" + 0.033*\"file\" + 0.028*\"kylin\" + 0.024*\"doe\" + 0.020*\"git\" + 0.019*\"build\" + 0.015*\"new\" + 0.014*\"run\"'),\n",
       " (5,\n",
       "  '0.052*\"game\" + 0.020*\"add\" + 0.019*\"comment\" + 0.018*\"method\" + 0.017*\"use\" + 0.016*\"new\" + 0.016*\"property\" + 0.015*\"set\" + 0.015*\"class\" + 0.013*\"instance\"'),\n",
       " (6,\n",
       "  '0.072*\"license\" + 0.046*\"apache\" + 0.040*\"public\" + 0.031*\"file\" + 0.030*\"distributed\" + 0.028*\"diff\" + 0.024*\"final\" + 0.020*\"import\" + 0.020*\"index\" + 0.018*\"software\"'),\n",
       " (7,\n",
       "  '0.179*\"pogo\" + 0.126*\"support\" + 0.100*\"help\" + 0.062*\"customer\" + 0.035*\"quick\" + 0.032*\"project\" + 0.026*\"source\" + 0.026*\"hive\" + 0.025*\"hbase\" + 0.019*\"spark\"'),\n",
       " (8,\n",
       "  '0.111*\"commit\" + 0.066*\"date\" + 0.065*\"author\" + 0.063*\"branch\" + 0.056*\"review\" + 0.045*\"merge\" + 0.035*\"change\" + 0.033*\"close\" + 0.029*\"committed\" + 0.022*\"sandeep\"'),\n",
       " (9,\n",
       "  '0.046*\"value\" + 0.044*\"null\" + 0.044*\"type\" + 0.035*\"query\" + 0.035*\"code\" + 0.033*\"return\" + 0.026*\"string\" + 0.025*\"object\" + 0.024*\"contact\" + 0.022*\"column\"')]"
      ]
     },
     "execution_count": 12,
     "metadata": {},
     "output_type": "execute_result"
    }
   ],
   "source": [
    "from tqdm import tqdm\n",
    "import gensim\n",
    "\n",
    "import gensim.corpora as corpora\n",
    "from gensim.utils import simple_preprocess\n",
    "from gensim.models import CoherenceModel\n",
    "from gensim.parsing.preprocessing import STOPWORDS\n",
    "\n",
    "import pprint\n",
    "final=[doc.split() for doc in cleaned]\n",
    "dictionary = gensim.corpora.Dictionary(final)\n",
    "dictionary.filter_extremes(no_below=15, no_above=0.4,keep_n=100000)\n",
    "corpus = [dictionary.doc2bow(doc) for doc in final]\n",
    "\n",
    "\n",
    "lda_model = gensim.models.ldamodel.LdaModel(corpus=corpus,\n",
    "                                           id2word=dictionary,\n",
    "                                           num_topics=10, \n",
    "                                           random_state=42,\n",
    "                                           update_every=1,\n",
    "                                           \n",
    "                                           passes=40,\n",
    "                                           alpha='auto',\n",
    "                                           per_word_topics=True)\n",
    "lda_model.print_topics()\n",
    "\n"
   ]
  },
  {
   "cell_type": "code",
   "execution_count": 14,
   "id": "4aef0f1b-0e9c-49e9-94cb-57e78493708e",
   "metadata": {},
   "outputs": [
    {
     "name": "stdout",
     "output_type": "stream",
     "text": [
      "\n",
      "Coherence Score:  0.520833895688165\n"
     ]
    }
   ],
   "source": [
    "coherence_model_lda = CoherenceModel(model=lda_model, texts=final, dictionary=dictionary, coherence='c_v')\n",
    "coherence_lda = coherence_model_lda.get_coherence()\n",
    "print('\\nCoherence Score: ', coherence_lda)"
   ]
  },
  {
   "cell_type": "code",
   "execution_count": 16,
   "id": "8f75d610-12a8-43d0-a9b9-f45fa7785e1e",
   "metadata": {},
   "outputs": [
    {
     "data": {
      "text/plain": [
       "[(0,\n",
       "  '0.332*\"http\" + 0.142*\"user\" + 0.141*\"pull\" + 0.134*\"request\" + 0.063*\"github\" + 0.039*\"closed\" + 0.017*\"asfgit\" + 0.008*\"window\" + 0.007*\"arg\" + 0.007*\"cli\"'),\n",
       " (1,\n",
       "  '0.155*\"issue\" + 0.089*\"release\" + 0.078*\"resolved\" + 0.075*\"fix\" + 0.071*\"fixed\" + 0.068*\"version\" + 0.039*\"master\" + 0.035*\"bug\" + 0.029*\"updated\" + 0.020*\"thank\"'),\n",
       " (2,\n",
       "  '0.025*\"code\" + 0.017*\"case\" + 0.016*\"need\" + 0.015*\"think\" + 0.014*\"work\" + 0.013*\"look\" + 0.012*\"change\" + 0.012*\"make\" + 0.011*\"problem\" + 0.011*\"time\"'),\n",
       " (3,\n",
       "  '0.100*\"info\" + 0.082*\"error\" + 0.055*\"falcon\" + 0.033*\"entity\" + 0.032*\"cluster\" + 0.028*\"server\" + 0.020*\"success\" + 0.017*\"main\" + 0.017*\"log\" + 0.016*\"noformat\"'),\n",
       " (4,\n",
       "  '0.101*\"patch\" + 0.076*\"test\" + 0.041*\"number\" + 0.033*\"file\" + 0.028*\"kylin\" + 0.024*\"doe\" + 0.020*\"git\" + 0.019*\"build\" + 0.015*\"new\" + 0.014*\"run\"'),\n",
       " (5,\n",
       "  '0.052*\"game\" + 0.020*\"add\" + 0.019*\"comment\" + 0.018*\"method\" + 0.017*\"use\" + 0.016*\"new\" + 0.016*\"property\" + 0.015*\"set\" + 0.015*\"class\" + 0.013*\"instance\"'),\n",
       " (6,\n",
       "  '0.072*\"license\" + 0.046*\"apache\" + 0.040*\"public\" + 0.031*\"file\" + 0.030*\"distributed\" + 0.028*\"diff\" + 0.024*\"final\" + 0.020*\"import\" + 0.020*\"index\" + 0.018*\"software\"'),\n",
       " (7,\n",
       "  '0.179*\"pogo\" + 0.126*\"support\" + 0.100*\"help\" + 0.062*\"customer\" + 0.035*\"quick\" + 0.032*\"project\" + 0.026*\"source\" + 0.026*\"hive\" + 0.025*\"hbase\" + 0.019*\"spark\"'),\n",
       " (8,\n",
       "  '0.111*\"commit\" + 0.066*\"date\" + 0.065*\"author\" + 0.063*\"branch\" + 0.056*\"review\" + 0.045*\"merge\" + 0.035*\"change\" + 0.033*\"close\" + 0.029*\"committed\" + 0.022*\"sandeep\"'),\n",
       " (9,\n",
       "  '0.046*\"value\" + 0.044*\"null\" + 0.044*\"type\" + 0.035*\"query\" + 0.035*\"code\" + 0.033*\"return\" + 0.026*\"string\" + 0.025*\"object\" + 0.024*\"contact\" + 0.022*\"column\"')]"
      ]
     },
     "execution_count": 16,
     "metadata": {},
     "output_type": "execute_result"
    }
   ],
   "source": [
    "import pickle\n",
    "\n",
    "\n",
    "# pickle.dump(cleaned, open('model.pk4','wb'))\n",
    "# pickle.dump(dictionary, open('model.pk5','wb'))\n",
    "# pickle.dump(corpus, open('model.pk5','wb'))\n",
    "pickle.dump(lda_model, open('model.pkn100000,.4,10','wb'))\n",
    "# Loading model to compare the results\n",
    "model = pickle.load(open('model.pkn100000,.4,10','rb'))\n",
    "model.print_topics()\n"
   ]
  },
  {
   "cell_type": "code",
   "execution_count": 6,
   "id": "d8120a1f-c555-40d8-949b-dd02acadd9ed",
   "metadata": {
    "tags": []
   },
   "outputs": [
    {
     "data": {
      "text/plain": [
       "[(0,\n",
       "  '0.241*\"pull\" + 0.229*\"request\" + 0.120*\"http\" + 0.084*\"user\" + 0.067*\"closed\" + 0.064*\"close\" + 0.064*\"apply\" + 0.062*\"running\" + 0.007*\"assign\" + 0.006*\"incorporated\"'),\n",
       " (1,\n",
       "  '0.232*\"fix\" + 0.204*\"fixed\" + 0.101*\"bug\" + 0.059*\"thank\" + 0.044*\"delete\" + 0.032*\"checked\" + 0.031*\"could\" + 0.030*\"post\" + 0.029*\"execution\" + 0.022*\"reviewing\"'),\n",
       " (2,\n",
       "  '0.188*\"test\" + 0.116*\"number\" + 0.048*\"run\" + 0.040*\"result\" + 0.038*\"cluster\" + 0.030*\"unit\" + 0.029*\"success\" + 0.027*\"failure\" + 0.025*\"time\" + 0.017*\"testing\"'),\n",
       " (3,\n",
       "  '0.255*\"help\" + 0.234*\"release\" + 0.088*\"quick\" + 0.037*\"filter\" + 0.034*\"name\" + 0.020*\"document\" + 0.017*\"resolve\" + 0.016*\"conflict\" + 0.014*\"response\" + 0.014*\"sound\"'),\n",
       " (4,\n",
       "  '0.066*\"type\" + 0.058*\"method\" + 0.044*\"class\" + 0.042*\"used\" + 0.040*\"added\" + 0.027*\"function\" + 0.025*\"api\" + 0.021*\"field\" + 0.020*\"object\" + 0.018*\"expression\"'),\n",
       " (5,\n",
       "  '0.090*\"diff\" + 0.064*\"index\" + 0.045*\"copy\" + 0.043*\"additional\" + 0.041*\"language\" + 0.037*\"limitation\" + 0.036*\"contributor\" + 0.035*\"agreed\" + 0.035*\"writing\" + 0.035*\"licensed\"'),\n",
       " (6,\n",
       "  '0.151*\"resolved\" + 0.108*\"jira\" + 0.065*\"list\" + 0.061*\"process\" + 0.048*\"note\" + 0.039*\"technical\" + 0.036*\"quality\" + 0.029*\"rule\" + 0.027*\"open\" + 0.021*\"page\"'),\n",
       " (7,\n",
       "  '0.201*\"committed\" + 0.146*\"trunk\" + 0.144*\"branch\" + 0.094*\"created\" + 0.093*\"merged\" + 0.029*\"revision\" + 0.029*\"arg\" + 0.023*\"character\" + 0.019*\"solved\" + 0.018*\"validate\"'),\n",
       " (8,\n",
       "  '0.266*\"patch\" + 0.085*\"doe\" + 0.074*\"new\" + 0.047*\"update\" + 0.033*\"hadoop\" + 0.030*\"warning\" + 0.027*\"select\" + 0.021*\"latest\" + 0.019*\"generate\" + 0.019*\"applied\"'),\n",
       " (9,\n",
       "  '0.237*\"version\" + 0.102*\"failed\" + 0.076*\"group\" + 0.073*\"configuration\" + 0.060*\"released\" + 0.058*\"available\" + 0.048*\"setting\" + 0.048*\"config\" + 0.048*\"root\" + 0.042*\"closing\"'),\n",
       " (10,\n",
       "  '0.081*\"null\" + 0.064*\"string\" + 0.062*\"return\" + 0.055*\"new\" + 0.045*\"public\" + 0.037*\"join\" + 0.035*\"false\" + 0.032*\"int\" + 0.029*\"final\" + 0.028*\"key\"'),\n",
       " (11,\n",
       "  '0.282*\"info\" + 0.069*\"path\" + 0.062*\"main\" + 0.046*\"status\" + 0.044*\"service\" + 0.041*\"action\" + 0.040*\"command\" + 0.036*\"task\" + 0.033*\"connection\" + 0.020*\"event\"'),\n",
       " (12,\n",
       "  '0.126*\"file\" + 0.071*\"build\" + 0.055*\"project\" + 0.046*\"source\" + 0.039*\"java\" + 0.038*\"dependency\" + 0.037*\"jar\" + 0.026*\"extension\" + 0.022*\"directory\" + 0.022*\"clean\"'),\n",
       " (13,\n",
       "  '0.039*\"support\" + 0.023*\"change\" + 0.022*\"case\" + 0.021*\"use\" + 0.020*\"need\" + 0.019*\"think\" + 0.017*\"work\" + 0.015*\"make\" + 0.014*\"add\" + 0.014*\"problem\"'),\n",
       " (14,\n",
       "  '0.210*\"http\" + 0.173*\"issue\" + 0.100*\"user\" + 0.083*\"review\" + 0.072*\"look\" + 0.068*\"comment\" + 0.049*\"please\" + 0.033*\"updated\" + 0.022*\"related\" + 0.018*\"contribution\"'),\n",
       " (15,\n",
       "  '0.100*\"job\" + 0.087*\"column\" + 0.046*\"working\" + 0.043*\"row\" + 0.033*\"sorry\" + 0.025*\"got\" + 0.024*\"debug\" + 0.024*\"day\" + 0.020*\"mentioned\" + 0.017*\"validation\"'),\n",
       " (16,\n",
       "  '0.190*\"commit\" + 0.114*\"date\" + 0.101*\"author\" + 0.077*\"merge\" + 0.072*\"branch\" + 0.063*\"git\" + 0.059*\"http\" + 0.034*\"change\" + 0.034*\"server\" + 0.027*\"following\"'),\n",
       " (17,\n",
       "  '0.108*\"table\" + 0.103*\"value\" + 0.096*\"set\" + 0.092*\"property\" + 0.076*\"instance\" + 0.070*\"default\" + 0.037*\"parameter\" + 0.025*\"true\" + 0.023*\"cache\" + 0.023*\"will\"'),\n",
       " (18,\n",
       "  '0.152*\"license\" + 0.111*\"apache\" + 0.062*\"distributed\" + 0.061*\"file\" + 0.057*\"see\" + 0.038*\"software\" + 0.035*\"permission\" + 0.034*\"asf\" + 0.029*\"notice\" + 0.025*\"condition\"'),\n",
       " (19,\n",
       "  '0.187*\"error\" + 0.067*\"contact\" + 0.062*\"exception\" + 0.055*\"feed\" + 0.048*\"log\" + 0.047*\"noformat\" + 0.036*\"message\" + 0.033*\"count\" + 0.029*\"caused\" + 0.028*\"size\"')]"
      ]
     },
     "execution_count": 6,
     "metadata": {},
     "output_type": "execute_result"
    }
   ],
   "source": [
    "new_list = [s.replace(\"code\", \"\") for s in cleaned]\n",
    "final=[doc.split() for doc in new_list]\n",
    "dictionary = gensim.corpora.Dictionary(final)\n",
    "\n",
    "dictionary.filter_extremes(no_below=15, no_above=0.3,keep_n=100000)\n",
    "corpus = [dictionary.doc2bow(doc) for doc in final]\n",
    "\n",
    "\n",
    "lda_model = gensim.models.ldamodel.LdaModel(corpus=corpus,\n",
    "                                           id2word=dictionary,\n",
    "                                           num_topics=20, \n",
    "                                           random_state=42,\n",
    "                                           update_every=1,\n",
    "                                           \n",
    "                                           passes=40,\n",
    "                                           alpha='auto',\n",
    "                                           per_word_topics=True)\n",
    "lda_model.print_topics()"
   ]
  },
  {
   "cell_type": "code",
   "execution_count": 10,
   "id": "2f568d24-86f8-4236-9d48-90bea6db321b",
   "metadata": {},
   "outputs": [],
   "source": [
    "pickle.dump(lda_model, open('model.pk6','wb'))"
   ]
  },
  {
   "cell_type": "code",
   "execution_count": 11,
   "id": "1bacc915-5986-46af-8724-6b3f8f660f23",
   "metadata": {
    "tags": []
   },
   "outputs": [
    {
     "data": {
      "text/plain": [
       "[(0,\n",
       "  '0.210*\"user\" + 0.210*\"pull\" + 0.199*\"request\" + 0.061*\"cluster\" + 0.058*\"closed\" + 0.026*\"asfgit\" + 0.023*\"commented\" + 0.018*\"alternatively\" + 0.012*\"window\" + 0.011*\"bvellanki\"'),\n",
       " (1,\n",
       "  '0.427*\"http\" + 0.103*\"resolved\" + 0.094*\"fixed\" + 0.081*\"github\" + 0.081*\"git\" + 0.052*\"master\" + 0.023*\"branch\" + 0.021*\"contribution\" + 0.015*\"closing\" + 0.009*\"duplicate\"'),\n",
       " (2,\n",
       "  '0.027*\"code\" + 0.016*\"case\" + 0.015*\"use\" + 0.013*\"think\" + 0.010*\"change\" + 0.010*\"make\" + 0.009*\"table\" + 0.009*\"using\" + 0.009*\"time\" + 0.008*\"add\"'),\n",
       " (3,\n",
       "  '0.073*\"cube\" + 0.071*\"query\" + 0.021*\"noformat\" + 0.020*\"tuple\" + 0.019*\"count\" + 0.019*\"load\" + 0.018*\"record\" + 0.016*\"bag\" + 0.015*\"data\" + 0.015*\"byte\"'),\n",
       " (4,\n",
       "  '0.074*\"test\" + 0.041*\"number\" + 0.029*\"file\" + 0.027*\"kylin\" + 0.020*\"doe\" + 0.018*\"build\" + 0.017*\"new\" + 0.017*\"run\" + 0.014*\"pig\" + 0.014*\"release\"'),\n",
       " (5,\n",
       "  '0.130*\"info\" + 0.106*\"error\" + 0.033*\"phone\" + 0.032*\"exception\" + 0.029*\"calcite\" + 0.023*\"time\" + 0.022*\"main\" + 0.017*\"metadata\" + 0.015*\"failure\" + 0.015*\"connection\"'),\n",
       " (6,\n",
       "  '0.064*\"null\" + 0.053*\"string\" + 0.045*\"return\" + 0.038*\"public\" + 0.037*\"new\" + 0.037*\"contact\" + 0.027*\"int\" + 0.025*\"value\" + 0.024*\"final\" + 0.022*\"false\"'),\n",
       " (7,\n",
       "  '0.059*\"support\" + 0.055*\"game\" + 0.050*\"issue\" + 0.038*\"help\" + 0.024*\"customer\" + 0.024*\"release\" + 0.023*\"fix\" + 0.022*\"look\" + 0.022*\"version\" + 0.019*\"work\"'),\n",
       " (8,\n",
       "  '0.158*\"patch\" + 0.101*\"commit\" + 0.061*\"date\" + 0.059*\"author\" + 0.051*\"review\" + 0.048*\"branch\" + 0.041*\"merge\" + 0.040*\"change\" + 0.030*\"close\" + 0.026*\"committed\"'),\n",
       " (9,\n",
       "  '0.103*\"falcon\" + 0.054*\"hadoop\" + 0.039*\"log\" + 0.037*\"hdfs\" + 0.035*\"merged\" + 0.030*\"status\" + 0.028*\"process\" + 0.024*\"task\" + 0.023*\"delete\" + 0.021*\"config\"'),\n",
       " (10,\n",
       "  '0.093*\"license\" + 0.071*\"apache\" + 0.055*\"entity\" + 0.040*\"file\" + 0.037*\"distributed\" + 0.023*\"see\" + 0.023*\"software\" + 0.022*\"diff\" + 0.021*\"permission\" + 0.020*\"asf\"')]"
      ]
     },
     "execution_count": 11,
     "metadata": {},
     "output_type": "execute_result"
    }
   ],
   "source": [
    "cleaned = pickle.load(open('model.pk4','rb'))\n",
    "\n",
    "final=[doc.split() for doc in cleaned]\n",
    "dictionary = gensim.corpora.Dictionary(final)\n",
    "\n",
    "dictionary.filter_extremes(no_below=15, no_above=0.4,keep_n=800000)\n",
    "corpus = [dictionary.doc2bow(doc) for doc in final]\n",
    "\n",
    "\n",
    "lda_model = gensim.models.ldamodel.LdaModel(corpus=corpus,\n",
    "                                           id2word=dictionary,\n",
    "                                           num_topics=11, \n",
    "                                           random_state=42,\n",
    "                                           update_every=1,\n",
    "                                           \n",
    "                                           passes=40,\n",
    "                                           alpha='auto',\n",
    "                                           per_word_topics=True)\n",
    "lda_model.print_topics()"
   ]
  },
  {
   "cell_type": "code",
   "execution_count": 18,
   "id": "e6b578bb-b721-4a8a-b999-f35d940cb3a6",
   "metadata": {},
   "outputs": [
    {
     "data": {
      "text/plain": [
       "[(0,\n",
       "  '0.150*\"http\" + 0.093*\"commit\" + 0.066*\"pull\" + 0.062*\"request\" + 0.055*\"date\" + 0.050*\"author\" + 0.047*\"review\" + 0.044*\"user\" + 0.037*\"branch\" + 0.029*\"github\"'),\n",
       " (1,\n",
       "  '0.094*\"table\" + 0.063*\"entity\" + 0.047*\"join\" + 0.023*\"delete\" + 0.022*\"thread\" + 0.018*\"state\" + 0.016*\"partition\" + 0.016*\"process\" + 0.015*\"execution\" + 0.013*\"event\"'),\n",
       " (2,\n",
       "  '0.112*\"test\" + 0.063*\"number\" + 0.038*\"falcon\" + 0.035*\"git\" + 0.022*\"cluster\" + 0.022*\"message\" + 0.020*\"contact\" + 0.019*\"server\" + 0.018*\"unit\" + 0.017*\"success\"'),\n",
       " (3,\n",
       "  '0.047*\"value\" + 0.043*\"cube\" + 0.042*\"query\" + 0.041*\"property\" + 0.025*\"select\" + 0.023*\"input\" + 0.020*\"type\" + 0.020*\"set\" + 0.019*\"hdfs\" + 0.019*\"default\"'),\n",
       " (4,\n",
       "  '0.028*\"support\" + 0.026*\"game\" + 0.018*\"help\" + 0.015*\"case\" + 0.014*\"use\" + 0.013*\"think\" + 0.012*\"look\" + 0.010*\"make\" + 0.010*\"change\" + 0.010*\"need\"'),\n",
       " (5,\n",
       "  '0.052*\"null\" + 0.048*\"string\" + 0.046*\"return\" + 0.040*\"new\" + 0.034*\"public\" + 0.027*\"feed\" + 0.024*\"int\" + 0.023*\"throw\" + 0.022*\"object\" + 0.020*\"final\"'),\n",
       " (6,\n",
       "  '0.046*\"issue\" + 0.033*\"release\" + 0.025*\"file\" + 0.023*\"resolved\" + 0.023*\"fix\" + 0.022*\"kylin\" + 0.020*\"version\" + 0.017*\"jira\" + 0.014*\"build\" + 0.013*\"need\"'),\n",
       " (7,\n",
       "  '0.276*\"patch\" + 0.072*\"merge\" + 0.065*\"fixed\" + 0.046*\"committed\" + 0.036*\"master\" + 0.033*\"trunk\" + 0.030*\"branch\" + 0.029*\"warning\" + 0.027*\"updated\" + 0.026*\"doe\"'),\n",
       " (8,\n",
       "  '0.103*\"info\" + 0.084*\"error\" + 0.029*\"hadoop\" + 0.022*\"exception\" + 0.021*\"schema\" + 0.021*\"noformat\" + 0.018*\"group\" + 0.017*\"main\" + 0.014*\"time\" + 0.013*\"job\"'),\n",
       " (9,\n",
       "  '0.102*\"customer\" + 0.095*\"license\" + 0.057*\"apache\" + 0.041*\"file\" + 0.039*\"distributed\" + 0.036*\"see\" + 0.024*\"software\" + 0.022*\"permission\" + 0.021*\"asf\" + 0.020*\"diff\"')]"
      ]
     },
     "execution_count": 18,
     "metadata": {},
     "output_type": "execute_result"
    }
   ],
   "source": [
    "cleaned = pickle.load(open('model.pk4','rb'))\n",
    "\n",
    "\n",
    "\n",
    "new_list = [s.replace(\"code\", \"\") for s in cleaned]\n",
    "\n",
    "final=[doc.split() for doc in new_list]\n",
    "dictionary = gensim.corpora.Dictionary(final)\n",
    "\n",
    "dictionary.filter_extremes(no_below=15, no_above=0.4,keep_n=200000)\n",
    "corpus = [dictionary.doc2bow(doc) for doc in final]\n",
    "\n",
    "\n",
    "lda_model2 = gensim.models.ldamodel.LdaModel(corpus=corpus,\n",
    "                                           id2word=dictionary,\n",
    "                                           num_topics=10, \n",
    "                                           random_state=42,\n",
    "                                           update_every=1,\n",
    "                                           \n",
    "                                           passes=40,\n",
    "                                           alpha='auto',\n",
    "                                           per_word_topics=True)\n",
    "lda_model2.print_topics()"
   ]
  },
  {
   "cell_type": "code",
   "execution_count": 10,
   "id": "a6577975-d6c4-44c6-824d-784ec17eefaf",
   "metadata": {},
   "outputs": [
    {
     "data": {
      "text/plain": [
       "[(0,\n",
       "  '0.115*\"date\" + 0.049*\"server\" + 0.038*\"java\" + 0.027*\"client\" + 0.019*\"record\" + 0.018*\"will\" + 0.017*\"debug\" + 0.015*\"target\" + 0.015*\"recipe\" + 0.015*\"link\"'),\n",
       " (1,\n",
       "  '0.032*\"support\" + 0.029*\"game\" + 0.020*\"help\" + 0.019*\"need\" + 0.018*\"change\" + 0.016*\"use\" + 0.015*\"think\" + 0.014*\"work\" + 0.013*\"customer\" + 0.013*\"make\"'),\n",
       " (2,\n",
       "  '0.072*\"null\" + 0.057*\"string\" + 0.047*\"return\" + 0.042*\"new\" + 0.040*\"public\" + 0.029*\"int\" + 0.028*\"throw\" + 0.025*\"final\" + 0.023*\"object\" + 0.020*\"value\"'),\n",
       " (3,\n",
       "  '0.062*\"license\" + 0.058*\"git\" + 0.055*\"github\" + 0.047*\"apache\" + 0.045*\"user\" + 0.035*\"closed\" + 0.034*\"file\" + 0.032*\"http\" + 0.030*\"date\" + 0.025*\"distributed\"'),\n",
       " (4,\n",
       "  '0.180*\"patch\" + 0.125*\"test\" + 0.043*\"review\" + 0.032*\"committed\" + 0.029*\"new\" + 0.028*\"doe\" + 0.023*\"trunk\" + 0.021*\"number\" + 0.020*\"unit\" + 0.020*\"warning\"'),\n",
       " (5,\n",
       "  '0.089*\"http\" + 0.083*\"issue\" + 0.048*\"release\" + 0.042*\"resolved\" + 0.041*\"fix\" + 0.038*\"fixed\" + 0.036*\"version\" + 0.030*\"jira\" + 0.021*\"build\" + 0.019*\"hadoop\"'),\n",
       " (6,\n",
       "  '0.056*\"info\" + 0.046*\"error\" + 0.035*\"file\" + 0.032*\"kylin\" + 0.031*\"falcon\" + 0.023*\"run\" + 0.022*\"property\" + 0.018*\"cluster\" + 0.017*\"pig\" + 0.014*\"success\"'),\n",
       " (7,\n",
       "  '0.194*\"pull\" + 0.143*\"request\" + 0.110*\"merge\" + 0.057*\"message\" + 0.033*\"opened\" + 0.022*\"delete\" + 0.017*\"alternatively\" + 0.015*\"partition\" + 0.014*\"timestamp\" + 0.014*\"foreach\"'),\n",
       " (8,\n",
       "  '0.165*\"commit\" + 0.103*\"http\" + 0.096*\"author\" + 0.093*\"branch\" + 0.048*\"close\" + 0.033*\"sandeep\" + 0.033*\"sandysmdl\" + 0.031*\"apply\" + 0.028*\"change\" + 0.026*\"review\"'),\n",
       " (9,\n",
       "  '0.025*\"number\" + 0.017*\"table\" + 0.015*\"type\" + 0.015*\"cube\" + 0.014*\"query\" + 0.014*\"value\" + 0.014*\"data\" + 0.012*\"column\" + 0.012*\"job\" + 0.011*\"instance\"')]"
      ]
     },
     "execution_count": 10,
     "metadata": {},
     "output_type": "execute_result"
    }
   ],
   "source": [
    "from tqdm import tqdm\n",
    "import gensim\n",
    "import gensim.corpora as corpora\n",
    "from gensim.utils import simple_preprocess\n",
    "from gensim.models import CoherenceModel\n",
    "from gensim.parsing.preprocessing import STOPWORDS\n",
    "cleaned = pickle.load(open('model.pk4','rb'))\n",
    "\n",
    "final=[doc.split() for doc in cleaned]\n",
    "dictionary = gensim.corpora.Dictionary(final)\n",
    "\n",
    "new_list = [s.replace(\"code\", \"\") for s in cleaned]\n",
    "newlist1=[s.replace(\"http\",\"\") for s in newlist]\n",
    "\n",
    "\n",
    "final=[doc.split() for doc in new_list1]\n",
    "dictionary = gensim.corpora.Dictionary(final)\n",
    "\n",
    "dictionary.filter_extremes(no_below=15, no_above=0.4,keep_n=200000)\n",
    "corpus = [dictionary.doc2bow(doc) for doc in final]\n",
    "\n",
    "\n",
    "lda_model2 = gensim.models.ldamodel.LdaModel(corpus=corpus,\n",
    "                                           id2word=dictionary,\n",
    "                                           num_topics=10, \n",
    "                                           random_state=100,\n",
    "                                           update_every=1,\n",
    "                                           \n",
    "                                           passes=40,\n",
    "                                           alpha='auto',\n",
    "                                           per_word_topics=True)\n",
    "lda_model2.print_topics()"
   ]
  },
  {
   "cell_type": "code",
   "execution_count": 7,
   "id": "d2958b05-259c-4f37-aad5-e33f88767323",
   "metadata": {},
   "outputs": [
    {
     "data": {
      "text/plain": [
       "[(0,\n",
       "  '0.093*\"info\" + 0.065*\"error\" + 0.014*\"failed\" + 0.013*\"test\" + 0.013*\"failure\" + 0.012*\"branch\" + 0.012*\"success\" + 0.012*\"reviewboard\" + 0.010*\"debug\" + 0.010*\"run\"'),\n",
       " (1,\n",
       "  '0.033*\"patch\" + 0.023*\"test\" + 0.010*\"doe\" + 0.009*\"new\" + 0.008*\"change\" + 0.007*\"file\" + 0.007*\"warning\" + 0.006*\"trunk\" + 0.006*\"release\" + 0.006*\"work\"'),\n",
       " (2,\n",
       "  '0.105*\"license\" + 0.042*\"file\" + 0.037*\"distributed\" + 0.031*\"apache\" + 0.027*\"software\" + 0.027*\"see\" + 0.025*\"asf\" + 0.019*\"diff\" + 0.017*\"language\" + 0.016*\"licensed\"'),\n",
       " (3,\n",
       "  '0.017*\"max\" + 0.013*\"sum\" + 0.013*\"min\" + 0.013*\"connector\" + 0.012*\"commit\" + 0.012*\"speed\" + 0.011*\"mean\" + 0.011*\"rate\" + 0.011*\"duplicate\" + 0.009*\"moon\"'),\n",
       " (4,\n",
       "  '0.024*\"value\" + 0.014*\"key\" + 0.013*\"class\" + 0.013*\"method\" + 0.012*\"link\" + 0.011*\"default\" + 0.011*\"use\" + 0.010*\"used\" + 0.010*\"ivy\" + 0.009*\"property\"'),\n",
       " (5,\n",
       "  '0.032*\"issue\" + 0.021*\"user\" + 0.015*\"version\" + 0.012*\"commented\" + 0.011*\"github\" + 0.009*\"build\" + 0.009*\"need\" + 0.009*\"file\" + 0.009*\"spark\" + 0.009*\"test\"'),\n",
       " (6,\n",
       "  '0.044*\"new\" + 0.044*\"final\" + 0.041*\"string\" + 0.039*\"public\" + 0.023*\"void\" + 0.021*\"return\" + 0.019*\"private\" + 0.018*\"import\" + 0.015*\"null\" + 0.013*\"topic\"'),\n",
       " (7,\n",
       "  '0.043*\"val\" + 0.029*\"log\" + 0.024*\"message\" + 0.019*\"def\" + 0.019*\"new\" + 0.018*\"url\" + 0.016*\"offset\" + 0.015*\"file\" + 0.014*\"service\" + 0.012*\"diff\"'),\n",
       " (8,\n",
       "  '0.065*\"pull\" + 0.057*\"commit\" + 0.056*\"request\" + 0.037*\"user\" + 0.036*\"github\" + 0.029*\"date\" + 0.029*\"author\" + 0.024*\"close\" + 0.023*\"git\" + 0.020*\"change\"'),\n",
       " (9,\n",
       "  '0.011*\"think\" + 0.009*\"case\" + 0.009*\"time\" + 0.008*\"make\" + 0.008*\"broker\" + 0.008*\"data\" + 0.007*\"need\" + 0.007*\"partition\" + 0.007*\"topic\" + 0.007*\"message\"')]"
      ]
     },
     "execution_count": 7,
     "metadata": {},
     "output_type": "execute_result"
    }
   ],
   "source": [
    "from tqdm import tqdm\n",
    "import gensim\n",
    "import gensim.corpora as corpora\n",
    "from gensim.utils import simple_preprocess\n",
    "from gensim.models import CoherenceModel\n",
    "from gensim.parsing.preprocessing import STOPWORDS\n",
    "cleaned = pickle.load(open('model.pk4','rb'))\n",
    "\n",
    "final=[doc.split() for doc in cleaned]\n",
    "dictionary = gensim.corpora.Dictionary(final)\n",
    "\n",
    "new_list = [s.replace(\"code\", \"\") for s in cleaned]\n",
    "new_list1=[s.replace(\"http\",\"\") for s in new_list]\n",
    "\n",
    "new_list2=[s.replace(\"asf\",\"\") for s in new_list1]\n",
    "final=[doc.split() for doc in new_list1]\n",
    "dictionary = gensim.corpora.Dictionary(final)\n",
    "\n",
    "dictionary.filter_extremes( no_above=0.4,keep_n=1200000)\n",
    "corpus = [dictionary.doc2bow(doc) for doc in final]\n",
    "\n",
    "\n",
    "lda_model2 = gensim.models.ldamodel.LdaModel(corpus=corpus,\n",
    "                                           id2word=dictionary,\n",
    "                                           num_topics=10, \n",
    "                                           random_state=100,\n",
    "                                           update_every=0,\n",
    "                                           \n",
    "                                           passes=40,\n",
    "                                           alpha='auto',\n",
    "                                           per_word_topics=True)\n",
    "lda_model2.print_topics()"
   ]
  },
  {
   "cell_type": "code",
   "execution_count": 8,
   "id": "d3deeaf5-5c0f-4191-b8fd-1454dd9608ba",
   "metadata": {},
   "outputs": [
    {
     "name": "stdout",
     "output_type": "stream",
     "text": [
      "\n",
      "Coherence Score:  0.599150531105369\n"
     ]
    }
   ],
   "source": [
    "coherence_model_lda = CoherenceModel(model=lda_model, texts=final, dictionary=dictionary, coherence='c_v')\n",
    "coherence_lda = coherence_model_lda.get_coherence()\n",
    "print('\\nCoherence Score: ', coherence_lda)"
   ]
  },
  {
   "cell_type": "code",
   "execution_count": 13,
   "id": "58864577-b799-4b60-b860-00b55d01a802",
   "metadata": {},
   "outputs": [
    {
     "data": {
      "text/plain": [
       "[(0,\n",
       "  '0.093*\"info\" + 0.065*\"error\" + 0.014*\"failed\" + 0.013*\"test\" + 0.013*\"failure\" + 0.012*\"branch\" + 0.012*\"success\" + 0.012*\"reviewboard\" + 0.010*\"debug\" + 0.010*\"run\"'),\n",
       " (1,\n",
       "  '0.033*\"patch\" + 0.023*\"test\" + 0.010*\"doe\" + 0.009*\"new\" + 0.008*\"change\" + 0.007*\"file\" + 0.007*\"warning\" + 0.006*\"trunk\" + 0.006*\"release\" + 0.006*\"work\"'),\n",
       " (2,\n",
       "  '0.105*\"license\" + 0.042*\"file\" + 0.037*\"distributed\" + 0.031*\"apache\" + 0.027*\"software\" + 0.027*\"see\" + 0.025*\"asf\" + 0.019*\"diff\" + 0.017*\"language\" + 0.016*\"licensed\"'),\n",
       " (3,\n",
       "  '0.017*\"max\" + 0.013*\"sum\" + 0.013*\"min\" + 0.013*\"connector\" + 0.012*\"commit\" + 0.012*\"speed\" + 0.011*\"mean\" + 0.011*\"rate\" + 0.011*\"duplicate\" + 0.009*\"moon\"'),\n",
       " (4,\n",
       "  '0.024*\"value\" + 0.014*\"key\" + 0.013*\"class\" + 0.013*\"method\" + 0.012*\"link\" + 0.011*\"default\" + 0.011*\"use\" + 0.010*\"used\" + 0.010*\"ivy\" + 0.009*\"property\"'),\n",
       " (5,\n",
       "  '0.032*\"issue\" + 0.021*\"user\" + 0.015*\"version\" + 0.012*\"commented\" + 0.011*\"github\" + 0.009*\"build\" + 0.009*\"need\" + 0.009*\"file\" + 0.009*\"spark\" + 0.009*\"test\"'),\n",
       " (6,\n",
       "  '0.044*\"new\" + 0.044*\"final\" + 0.041*\"string\" + 0.039*\"public\" + 0.023*\"void\" + 0.021*\"return\" + 0.019*\"private\" + 0.018*\"import\" + 0.015*\"null\" + 0.013*\"topic\"'),\n",
       " (7,\n",
       "  '0.043*\"val\" + 0.029*\"log\" + 0.024*\"message\" + 0.019*\"def\" + 0.019*\"new\" + 0.018*\"url\" + 0.016*\"offset\" + 0.015*\"file\" + 0.014*\"service\" + 0.012*\"diff\"'),\n",
       " (8,\n",
       "  '0.065*\"pull\" + 0.057*\"commit\" + 0.056*\"request\" + 0.037*\"user\" + 0.036*\"github\" + 0.029*\"date\" + 0.029*\"author\" + 0.024*\"close\" + 0.023*\"git\" + 0.020*\"change\"'),\n",
       " (9,\n",
       "  '0.011*\"think\" + 0.009*\"case\" + 0.009*\"time\" + 0.008*\"make\" + 0.008*\"broker\" + 0.008*\"data\" + 0.007*\"need\" + 0.007*\"partition\" + 0.007*\"topic\" + 0.007*\"message\"')]"
      ]
     },
     "execution_count": 13,
     "metadata": {},
     "output_type": "execute_result"
    }
   ],
   "source": [
    "new_list2=[s.replace(\"asf\",\"\") for s in new_list1]\n",
    "final=[doc.split() for doc in new_list1]\n",
    "dictionary = gensim.corpora.Dictionary(final)\n",
    "\n",
    "dictionary.filter_extremes( no_above=0.4,keep_n=1250000)\n",
    "corpus = [dictionary.doc2bow(doc) for doc in final]\n",
    "\n",
    "lda_model3 = gensim.models.ldamodel.LdaModel(corpus=corpus,\n",
    "                                           id2word=dictionary,\n",
    "                                           num_topics=10, \n",
    "                                           random_state=100,\n",
    "                                           update_every=0,\n",
    "                                           \n",
    "                                           passes=40,\n",
    "                                           alpha='auto',\n",
    "                                           per_word_topics=True)\n",
    "lda_model3.print_topics()"
   ]
  },
  {
   "cell_type": "code",
   "execution_count": 15,
   "id": "affeb1d0-41df-4d6d-9a5c-6e22dcb44768",
   "metadata": {},
   "outputs": [
    {
     "name": "stdout",
     "output_type": "stream",
     "text": [
      "\n",
      "Coherence Score:  0.599150531105369\n"
     ]
    }
   ],
   "source": [
    "coherence_model_lda = CoherenceModel(model=lda_model3, texts=final, dictionary=dictionary, coherence='c_v')\n",
    "coherence_lda = coherence_model_lda.get_coherence()\n",
    "print('\\nCoherence Score: ', coherence_lda)"
   ]
  }
 ],
 "metadata": {
  "kernelspec": {
   "display_name": "Python 3 (ipykernel)",
   "language": "python",
   "name": "python3"
  },
  "language_info": {
   "codemirror_mode": {
    "name": "ipython",
    "version": 3
   },
   "file_extension": ".py",
   "mimetype": "text/x-python",
   "name": "python",
   "nbconvert_exporter": "python",
   "pygments_lexer": "ipython3",
   "version": "3.8.8"
  },
  "toc-showcode": true
 },
 "nbformat": 4,
 "nbformat_minor": 5
}
